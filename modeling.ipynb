{
 "cells": [
  {
   "cell_type": "markdown",
   "metadata": {
    "id": "NVMfw7mrrEZA"
   },
   "source": [
    "## Importing Libraries"
   ]
  },
  {
   "cell_type": "code",
   "execution_count": 1,
   "metadata": {},
   "outputs": [],
   "source": [
    "import numpy as np\n",
    "import pandas as pd\n",
    "import matplotlib.pyplot as plt\n",
    "import seaborn as sns\n",
    "import pickle as pkl\n",
    "import xgboost as xgb\n",
    "from pathlib import Path"
   ]
  },
  {
   "cell_type": "code",
   "execution_count": 2,
   "metadata": {},
   "outputs": [],
   "source": [
    "from imblearn.over_sampling import SMOTE\n",
    "from sklearn.ensemble import RandomForestClassifier, AdaBoostClassifier\n",
    "from sklearn.model_selection import train_test_split\n",
    "from sklearn.metrics import accuracy_score, confusion_matrix, classification_report, f1_score, roc_auc_score, recall_score, precision_score, roc_curve, auc, make_scorer\n",
    "from sklearn.preprocessing import MinMaxScaler, StandardScaler, RobustScaler\n",
    "from sklearn.model_selection import GridSearchCV, StratifiedKFold\n",
    "from sklearn.tree import DecisionTreeClassifier\n",
    "from sklearn.linear_model import LogisticRegression\n",
    "import joblib"
   ]
  },
  {
   "cell_type": "markdown",
   "metadata": {},
   "source": [
    "## Setting Path & Settings"
   ]
  },
  {
   "cell_type": "code",
   "execution_count": 3,
   "metadata": {},
   "outputs": [],
   "source": [
    "# suppress scientific notation by setting float_format\n",
    "# pd.options.display.float_format = '{:.0f}'.format"
   ]
  },
  {
   "cell_type": "code",
   "execution_count": 4,
   "metadata": {},
   "outputs": [],
   "source": [
    "model_results_path = Path(\"./model_results\")\n",
    "pkl_path = model_results_path / Path(\"pkl\")"
   ]
  },
  {
   "cell_type": "markdown",
   "metadata": {},
   "source": [
    "## Helper Functions"
   ]
  },
  {
   "cell_type": "code",
   "execution_count": 5,
   "metadata": {},
   "outputs": [],
   "source": [
    "def generate_ROC_curve(y_test, y_pred):\n",
    "    \n",
    "    # Compute ROC curve and ROC area for each class\n",
    "    fpr, tpr, _ = roc_curve(y_test, y_pred)\n",
    "    roc_auc = auc(fpr, tpr)\n",
    "    \n",
    "    plt.figure()\n",
    "    lw = 2\n",
    "    plt.plot(fpr, tpr, color='darkorange', lw=lw, label='ROC curve (area = %0.2f)' % roc_auc)\n",
    "    plt.plot([0, 1], [0, 1], color='navy', lw=lw, linestyle='--')\n",
    "    plt.xlim([0.0, 1.0])\n",
    "    plt.ylim([0.0, 1.05])\n",
    "    plt.xlabel('False Positive Rate')\n",
    "    plt.ylabel('True Positive Rate')\n",
    "    plt.title('ROC')\n",
    "    plt.legend(loc=\"lower right\")\n",
    "    plt.show()"
   ]
  },
  {
   "cell_type": "code",
   "execution_count": 6,
   "metadata": {},
   "outputs": [],
   "source": [
    "model_performance_metrics = {}\n",
    "def generate_results(y_test,y_pred, display=False): \n",
    "    # computes and stores various model results in a dictionary\n",
    "    model_results_dict = {\n",
    "        \"Accuracy\": accuracy_score(y_test, y_pred),\n",
    "        \"F1 Score\": f1_score(y_test, y_pred),\n",
    "        \"ROC AUC Score\": roc_auc_score(y_test, y_pred), \n",
    "        \"Specificity\": recall_score(y_test, y_pred, pos_label=0), \n",
    "        \"Sensitivity\": recall_score(y_test, y_pred, pos_label=1), \n",
    "        \"True Positive\": confusion_matrix(y_test, y_pred)[0][0], \n",
    "        \"False Positive\": confusion_matrix(y_test, y_pred)[0][1],\n",
    "        \"False Negative\": confusion_matrix(y_test, y_pred)[1][0],\n",
    "        \"True Negative\": confusion_matrix(y_test, y_pred)[1][0],\n",
    "    }\n",
    "    \n",
    "    if display:\n",
    "        for metric, value in model_results_dict.items():\n",
    "            print(f\"{metric}: {value}\")\n",
    "    \n",
    "    return model_results_dict"
   ]
  },
  {
   "cell_type": "code",
   "execution_count": 7,
   "metadata": {},
   "outputs": [],
   "source": [
    "def generate_pkl(model, path):\n",
    "    # Exporting to Pkl File\n",
    "    with open(path, 'wb') as f:\n",
    "        pkl.dump(model, f)\n",
    "\n",
    "    print(f\"Model exported successfully to {path}\")"
   ]
  },
  {
   "cell_type": "code",
   "execution_count": 8,
   "metadata": {},
   "outputs": [],
   "source": [
    "def predict_from_pkl(pkl_path,new_record=None,X_test=None, scaler=None):\n",
    "    with open(pkl_path, 'rb') as f:\n",
    "        # Load the model from file\n",
    "        loaded_model = pkl.load(f)\n",
    "        if new_record:\n",
    "            # Sorts the record alphabetically and convert to a df\n",
    "            new_record = dict(sorted(new_record.items()))\n",
    "            new_record_df = pd.DataFrame([list(new_record.values())], columns=list(new_record.keys()))\n",
    "            # Apply the Scaler used for the model\n",
    "            if scaler:\n",
    "                new_record_scaled = scaler.transform(new_record_df)\n",
    "                new_record_df = pd.DataFrame(list(new_record_scaled)[0]).transpose()\n",
    "                new_record_df.columns = list(new_record.keys())\n",
    "            # Make a prediction\n",
    "            prediction = loaded_model.predict(new_record_df)[0]\n",
    "        else:\n",
    "            y_pred = loaded_model.predict(X_test)\n",
    "            return y_pred\n",
    "    \n",
    "    if prediction == 1:\n",
    "        return True\n",
    "    else:\n",
    "        return False"
   ]
  },
  {
   "cell_type": "markdown",
   "metadata": {},
   "source": [
    "## Import Cleaned Dataset"
   ]
  },
  {
   "cell_type": "code",
   "execution_count": 9,
   "metadata": {
    "colab": {
     "base_uri": "https://localhost:8080/",
     "height": 444
    },
    "id": "I1080pEyTcDo",
    "outputId": "82439d95-ad49-4c0e-f2f7-a0f922b913f9"
   },
   "outputs": [
    {
     "data": {
      "text/html": [
       "<div>\n",
       "<style scoped>\n",
       "    .dataframe tbody tr th:only-of-type {\n",
       "        vertical-align: middle;\n",
       "    }\n",
       "\n",
       "    .dataframe tbody tr th {\n",
       "        vertical-align: top;\n",
       "    }\n",
       "\n",
       "    .dataframe thead th {\n",
       "        text-align: right;\n",
       "    }\n",
       "</style>\n",
       "<table border=\"1\" class=\"dataframe\">\n",
       "  <thead>\n",
       "    <tr style=\"text-align: right;\">\n",
       "      <th></th>\n",
       "      <th>customer_id</th>\n",
       "      <th>vintage</th>\n",
       "      <th>age</th>\n",
       "      <th>gender</th>\n",
       "      <th>dependents</th>\n",
       "      <th>occupation</th>\n",
       "      <th>city</th>\n",
       "      <th>customer_nw_category</th>\n",
       "      <th>branch_code</th>\n",
       "      <th>current_balance</th>\n",
       "      <th>...</th>\n",
       "      <th>average_monthly_balance_prevQ2</th>\n",
       "      <th>current_month_credit</th>\n",
       "      <th>previous_month_credit</th>\n",
       "      <th>current_month_debit</th>\n",
       "      <th>previous_month_debit</th>\n",
       "      <th>current_month_balance</th>\n",
       "      <th>previous_month_balance</th>\n",
       "      <th>churn</th>\n",
       "      <th>last_transaction</th>\n",
       "      <th>days_since_last_transaction</th>\n",
       "    </tr>\n",
       "  </thead>\n",
       "  <tbody>\n",
       "    <tr>\n",
       "      <th>0</th>\n",
       "      <td>1</td>\n",
       "      <td>2101</td>\n",
       "      <td>66</td>\n",
       "      <td>Male</td>\n",
       "      <td>0.0</td>\n",
       "      <td>self_employed</td>\n",
       "      <td>187.0</td>\n",
       "      <td>2</td>\n",
       "      <td>755</td>\n",
       "      <td>1458.71</td>\n",
       "      <td>...</td>\n",
       "      <td>1449.07</td>\n",
       "      <td>0.20</td>\n",
       "      <td>0.20</td>\n",
       "      <td>0.20</td>\n",
       "      <td>0.20</td>\n",
       "      <td>1458.71</td>\n",
       "      <td>1458.71</td>\n",
       "      <td>0</td>\n",
       "      <td>2023-05-21</td>\n",
       "      <td>321.0</td>\n",
       "    </tr>\n",
       "    <tr>\n",
       "      <th>1</th>\n",
       "      <td>5</td>\n",
       "      <td>2329</td>\n",
       "      <td>90</td>\n",
       "      <td>other</td>\n",
       "      <td>0.0</td>\n",
       "      <td>self_employed</td>\n",
       "      <td>1020.0</td>\n",
       "      <td>2</td>\n",
       "      <td>582</td>\n",
       "      <td>2291.91</td>\n",
       "      <td>...</td>\n",
       "      <td>1006.54</td>\n",
       "      <td>0.47</td>\n",
       "      <td>0.47</td>\n",
       "      <td>0.47</td>\n",
       "      <td>2143.33</td>\n",
       "      <td>2291.91</td>\n",
       "      <td>1669.79</td>\n",
       "      <td>1</td>\n",
       "      <td>2023-08-06</td>\n",
       "      <td>244.0</td>\n",
       "    </tr>\n",
       "    <tr>\n",
       "      <th>2</th>\n",
       "      <td>6</td>\n",
       "      <td>1579</td>\n",
       "      <td>42</td>\n",
       "      <td>Male</td>\n",
       "      <td>2.0</td>\n",
       "      <td>self_employed</td>\n",
       "      <td>1494.0</td>\n",
       "      <td>3</td>\n",
       "      <td>388</td>\n",
       "      <td>927.72</td>\n",
       "      <td>...</td>\n",
       "      <td>1871.12</td>\n",
       "      <td>0.33</td>\n",
       "      <td>714.61</td>\n",
       "      <td>588.62</td>\n",
       "      <td>1538.06</td>\n",
       "      <td>1157.15</td>\n",
       "      <td>1677.16</td>\n",
       "      <td>1</td>\n",
       "      <td>2023-11-03</td>\n",
       "      <td>155.0</td>\n",
       "    </tr>\n",
       "    <tr>\n",
       "      <th>3</th>\n",
       "      <td>7</td>\n",
       "      <td>1923</td>\n",
       "      <td>42</td>\n",
       "      <td>Female</td>\n",
       "      <td>0.0</td>\n",
       "      <td>self_employed</td>\n",
       "      <td>1096.0</td>\n",
       "      <td>2</td>\n",
       "      <td>1666</td>\n",
       "      <td>15202.20</td>\n",
       "      <td>...</td>\n",
       "      <td>13798.82</td>\n",
       "      <td>0.36</td>\n",
       "      <td>0.36</td>\n",
       "      <td>857.50</td>\n",
       "      <td>286.07</td>\n",
       "      <td>15719.44</td>\n",
       "      <td>15349.75</td>\n",
       "      <td>0</td>\n",
       "      <td>2023-11-01</td>\n",
       "      <td>157.0</td>\n",
       "    </tr>\n",
       "    <tr>\n",
       "      <th>4</th>\n",
       "      <td>8</td>\n",
       "      <td>2048</td>\n",
       "      <td>72</td>\n",
       "      <td>Male</td>\n",
       "      <td>0.0</td>\n",
       "      <td>retired</td>\n",
       "      <td>1020.0</td>\n",
       "      <td>1</td>\n",
       "      <td>1</td>\n",
       "      <td>7006.93</td>\n",
       "      <td>...</td>\n",
       "      <td>11232.37</td>\n",
       "      <td>0.64</td>\n",
       "      <td>0.64</td>\n",
       "      <td>1299.64</td>\n",
       "      <td>439.26</td>\n",
       "      <td>7076.06</td>\n",
       "      <td>7755.98</td>\n",
       "      <td>0</td>\n",
       "      <td>2023-09-24</td>\n",
       "      <td>195.0</td>\n",
       "    </tr>\n",
       "    <tr>\n",
       "      <th>...</th>\n",
       "      <td>...</td>\n",
       "      <td>...</td>\n",
       "      <td>...</td>\n",
       "      <td>...</td>\n",
       "      <td>...</td>\n",
       "      <td>...</td>\n",
       "      <td>...</td>\n",
       "      <td>...</td>\n",
       "      <td>...</td>\n",
       "      <td>...</td>\n",
       "      <td>...</td>\n",
       "      <td>...</td>\n",
       "      <td>...</td>\n",
       "      <td>...</td>\n",
       "      <td>...</td>\n",
       "      <td>...</td>\n",
       "      <td>...</td>\n",
       "      <td>...</td>\n",
       "      <td>...</td>\n",
       "      <td>...</td>\n",
       "      <td>...</td>\n",
       "    </tr>\n",
       "    <tr>\n",
       "      <th>24403</th>\n",
       "      <td>30295</td>\n",
       "      <td>2398</td>\n",
       "      <td>42</td>\n",
       "      <td>Male</td>\n",
       "      <td>0.0</td>\n",
       "      <td>self_employed</td>\n",
       "      <td>146.0</td>\n",
       "      <td>2</td>\n",
       "      <td>286</td>\n",
       "      <td>7493.69</td>\n",
       "      <td>...</td>\n",
       "      <td>3515.03</td>\n",
       "      <td>0.51</td>\n",
       "      <td>90.10</td>\n",
       "      <td>1103.20</td>\n",
       "      <td>1183.04</td>\n",
       "      <td>7956.03</td>\n",
       "      <td>7431.36</td>\n",
       "      <td>0</td>\n",
       "      <td>2023-11-04</td>\n",
       "      <td>154.0</td>\n",
       "    </tr>\n",
       "    <tr>\n",
       "      <th>24404</th>\n",
       "      <td>30297</td>\n",
       "      <td>2325</td>\n",
       "      <td>10</td>\n",
       "      <td>Female</td>\n",
       "      <td>0.0</td>\n",
       "      <td>student</td>\n",
       "      <td>1020.0</td>\n",
       "      <td>2</td>\n",
       "      <td>1207</td>\n",
       "      <td>1076.43</td>\n",
       "      <td>...</td>\n",
       "      <td>2787.70</td>\n",
       "      <td>0.30</td>\n",
       "      <td>0.30</td>\n",
       "      <td>0.30</td>\n",
       "      <td>0.30</td>\n",
       "      <td>1076.43</td>\n",
       "      <td>1076.43</td>\n",
       "      <td>0</td>\n",
       "      <td>2023-10-22</td>\n",
       "      <td>167.0</td>\n",
       "    </tr>\n",
       "    <tr>\n",
       "      <th>24405</th>\n",
       "      <td>30298</td>\n",
       "      <td>1537</td>\n",
       "      <td>34</td>\n",
       "      <td>Female</td>\n",
       "      <td>0.0</td>\n",
       "      <td>self_employed</td>\n",
       "      <td>1046.0</td>\n",
       "      <td>2</td>\n",
       "      <td>223</td>\n",
       "      <td>3844.10</td>\n",
       "      <td>...</td>\n",
       "      <td>3865.55</td>\n",
       "      <td>1.71</td>\n",
       "      <td>2.29</td>\n",
       "      <td>901.00</td>\n",
       "      <td>1014.07</td>\n",
       "      <td>3738.54</td>\n",
       "      <td>3690.32</td>\n",
       "      <td>0</td>\n",
       "      <td>2023-12-17</td>\n",
       "      <td>111.0</td>\n",
       "    </tr>\n",
       "    <tr>\n",
       "      <th>24406</th>\n",
       "      <td>30299</td>\n",
       "      <td>2376</td>\n",
       "      <td>47</td>\n",
       "      <td>Male</td>\n",
       "      <td>0.0</td>\n",
       "      <td>salaried</td>\n",
       "      <td>1096.0</td>\n",
       "      <td>2</td>\n",
       "      <td>588</td>\n",
       "      <td>65511.97</td>\n",
       "      <td>...</td>\n",
       "      <td>21925.81</td>\n",
       "      <td>4666.84</td>\n",
       "      <td>3883.06</td>\n",
       "      <td>168.23</td>\n",
       "      <td>71.80</td>\n",
       "      <td>61078.50</td>\n",
       "      <td>57564.24</td>\n",
       "      <td>1</td>\n",
       "      <td>2023-12-31</td>\n",
       "      <td>97.0</td>\n",
       "    </tr>\n",
       "    <tr>\n",
       "      <th>24407</th>\n",
       "      <td>30301</td>\n",
       "      <td>1175</td>\n",
       "      <td>18</td>\n",
       "      <td>Male</td>\n",
       "      <td>0.0</td>\n",
       "      <td>student</td>\n",
       "      <td>1232.0</td>\n",
       "      <td>2</td>\n",
       "      <td>474</td>\n",
       "      <td>2107.05</td>\n",
       "      <td>...</td>\n",
       "      <td>4447.45</td>\n",
       "      <td>0.11</td>\n",
       "      <td>7.44</td>\n",
       "      <td>714.40</td>\n",
       "      <td>1094.09</td>\n",
       "      <td>2402.62</td>\n",
       "      <td>3260.58</td>\n",
       "      <td>1</td>\n",
       "      <td>2023-11-02</td>\n",
       "      <td>156.0</td>\n",
       "    </tr>\n",
       "  </tbody>\n",
       "</table>\n",
       "<p>24408 rows × 22 columns</p>\n",
       "</div>"
      ],
      "text/plain": [
       "       customer_id  vintage  age  gender  dependents     occupation    city  \\\n",
       "0                1     2101   66    Male         0.0  self_employed   187.0   \n",
       "1                5     2329   90   other         0.0  self_employed  1020.0   \n",
       "2                6     1579   42    Male         2.0  self_employed  1494.0   \n",
       "3                7     1923   42  Female         0.0  self_employed  1096.0   \n",
       "4                8     2048   72    Male         0.0        retired  1020.0   \n",
       "...            ...      ...  ...     ...         ...            ...     ...   \n",
       "24403        30295     2398   42    Male         0.0  self_employed   146.0   \n",
       "24404        30297     2325   10  Female         0.0        student  1020.0   \n",
       "24405        30298     1537   34  Female         0.0  self_employed  1046.0   \n",
       "24406        30299     2376   47    Male         0.0       salaried  1096.0   \n",
       "24407        30301     1175   18    Male         0.0        student  1232.0   \n",
       "\n",
       "       customer_nw_category  branch_code  current_balance  ...  \\\n",
       "0                         2          755          1458.71  ...   \n",
       "1                         2          582          2291.91  ...   \n",
       "2                         3          388           927.72  ...   \n",
       "3                         2         1666         15202.20  ...   \n",
       "4                         1            1          7006.93  ...   \n",
       "...                     ...          ...              ...  ...   \n",
       "24403                     2          286          7493.69  ...   \n",
       "24404                     2         1207          1076.43  ...   \n",
       "24405                     2          223          3844.10  ...   \n",
       "24406                     2          588         65511.97  ...   \n",
       "24407                     2          474          2107.05  ...   \n",
       "\n",
       "       average_monthly_balance_prevQ2  current_month_credit  \\\n",
       "0                             1449.07                  0.20   \n",
       "1                             1006.54                  0.47   \n",
       "2                             1871.12                  0.33   \n",
       "3                            13798.82                  0.36   \n",
       "4                            11232.37                  0.64   \n",
       "...                               ...                   ...   \n",
       "24403                         3515.03                  0.51   \n",
       "24404                         2787.70                  0.30   \n",
       "24405                         3865.55                  1.71   \n",
       "24406                        21925.81               4666.84   \n",
       "24407                         4447.45                  0.11   \n",
       "\n",
       "       previous_month_credit  current_month_debit  previous_month_debit  \\\n",
       "0                       0.20                 0.20                  0.20   \n",
       "1                       0.47                 0.47               2143.33   \n",
       "2                     714.61               588.62               1538.06   \n",
       "3                       0.36               857.50                286.07   \n",
       "4                       0.64              1299.64                439.26   \n",
       "...                      ...                  ...                   ...   \n",
       "24403                  90.10              1103.20               1183.04   \n",
       "24404                   0.30                 0.30                  0.30   \n",
       "24405                   2.29               901.00               1014.07   \n",
       "24406                3883.06               168.23                 71.80   \n",
       "24407                   7.44               714.40               1094.09   \n",
       "\n",
       "       current_month_balance  previous_month_balance  churn  last_transaction  \\\n",
       "0                    1458.71                 1458.71      0        2023-05-21   \n",
       "1                    2291.91                 1669.79      1        2023-08-06   \n",
       "2                    1157.15                 1677.16      1        2023-11-03   \n",
       "3                   15719.44                15349.75      0        2023-11-01   \n",
       "4                    7076.06                 7755.98      0        2023-09-24   \n",
       "...                      ...                     ...    ...               ...   \n",
       "24403                7956.03                 7431.36      0        2023-11-04   \n",
       "24404                1076.43                 1076.43      0        2023-10-22   \n",
       "24405                3738.54                 3690.32      0        2023-12-17   \n",
       "24406               61078.50                57564.24      1        2023-12-31   \n",
       "24407                2402.62                 3260.58      1        2023-11-02   \n",
       "\n",
       "       days_since_last_transaction  \n",
       "0                            321.0  \n",
       "1                            244.0  \n",
       "2                            155.0  \n",
       "3                            157.0  \n",
       "4                            195.0  \n",
       "...                            ...  \n",
       "24403                        154.0  \n",
       "24404                        167.0  \n",
       "24405                        111.0  \n",
       "24406                         97.0  \n",
       "24407                        156.0  \n",
       "\n",
       "[24408 rows x 22 columns]"
      ]
     },
     "execution_count": 9,
     "metadata": {},
     "output_type": "execute_result"
    }
   ],
   "source": [
    "bank_churn = pd.read_csv('./Cleaned_Modeling.csv')\n",
    "bank_churn"
   ]
  },
  {
   "cell_type": "markdown",
   "metadata": {},
   "source": [
    "## Partition & Oversample Dataset"
   ]
  },
  {
   "cell_type": "code",
   "execution_count": 10,
   "metadata": {},
   "outputs": [],
   "source": [
    "# Create your feature matrix X and target vector y\n",
    "X = bank_churn.drop(columns=['churn', 'last_transaction', 'customer_id', 'gender', 'occupation'], axis=1)\n",
    "y = bank_churn['churn']"
   ]
  },
  {
   "cell_type": "code",
   "execution_count": 11,
   "metadata": {},
   "outputs": [
    {
     "data": {
      "text/html": [
       "<div>\n",
       "<style scoped>\n",
       "    .dataframe tbody tr th:only-of-type {\n",
       "        vertical-align: middle;\n",
       "    }\n",
       "\n",
       "    .dataframe tbody tr th {\n",
       "        vertical-align: top;\n",
       "    }\n",
       "\n",
       "    .dataframe thead th {\n",
       "        text-align: right;\n",
       "    }\n",
       "</style>\n",
       "<table border=\"1\" class=\"dataframe\">\n",
       "  <thead>\n",
       "    <tr style=\"text-align: right;\">\n",
       "      <th></th>\n",
       "      <th>vintage</th>\n",
       "      <th>age</th>\n",
       "      <th>dependents</th>\n",
       "      <th>city</th>\n",
       "      <th>customer_nw_category</th>\n",
       "      <th>branch_code</th>\n",
       "      <th>current_balance</th>\n",
       "      <th>previous_month_end_balance</th>\n",
       "      <th>average_monthly_balance_prevQ</th>\n",
       "      <th>average_monthly_balance_prevQ2</th>\n",
       "      <th>current_month_credit</th>\n",
       "      <th>previous_month_credit</th>\n",
       "      <th>current_month_debit</th>\n",
       "      <th>previous_month_debit</th>\n",
       "      <th>current_month_balance</th>\n",
       "      <th>previous_month_balance</th>\n",
       "      <th>days_since_last_transaction</th>\n",
       "    </tr>\n",
       "  </thead>\n",
       "  <tbody>\n",
       "    <tr>\n",
       "      <th>count</th>\n",
       "      <td>24408.000000</td>\n",
       "      <td>24408.000000</td>\n",
       "      <td>24408.000000</td>\n",
       "      <td>24408.000000</td>\n",
       "      <td>24408.000000</td>\n",
       "      <td>24408.000000</td>\n",
       "      <td>2.440800e+04</td>\n",
       "      <td>2.440800e+04</td>\n",
       "      <td>2.440800e+04</td>\n",
       "      <td>2.440800e+04</td>\n",
       "      <td>2.440800e+04</td>\n",
       "      <td>2.440800e+04</td>\n",
       "      <td>2.440800e+04</td>\n",
       "      <td>2.440800e+04</td>\n",
       "      <td>2.440800e+04</td>\n",
       "      <td>2.440800e+04</td>\n",
       "      <td>24408.000000</td>\n",
       "    </tr>\n",
       "    <tr>\n",
       "      <th>mean</th>\n",
       "      <td>2090.759505</td>\n",
       "      <td>48.301786</td>\n",
       "      <td>0.341282</td>\n",
       "      <td>797.302155</td>\n",
       "      <td>2.217797</td>\n",
       "      <td>928.552688</td>\n",
       "      <td>7.512532e+03</td>\n",
       "      <td>7.622790e+03</td>\n",
       "      <td>7.605444e+03</td>\n",
       "      <td>7.016962e+03</td>\n",
       "      <td>3.918491e+03</td>\n",
       "      <td>3.719198e+03</td>\n",
       "      <td>4.099436e+03</td>\n",
       "      <td>3.741680e+03</td>\n",
       "      <td>7.583273e+03</td>\n",
       "      <td>7.608911e+03</td>\n",
       "      <td>166.999631</td>\n",
       "    </tr>\n",
       "    <tr>\n",
       "      <th>std</th>\n",
       "      <td>272.824196</td>\n",
       "      <td>17.375798</td>\n",
       "      <td>0.999470</td>\n",
       "      <td>433.215729</td>\n",
       "      <td>0.667546</td>\n",
       "      <td>948.608465</td>\n",
       "      <td>4.382688e+04</td>\n",
       "      <td>4.373454e+04</td>\n",
       "      <td>4.281387e+04</td>\n",
       "      <td>3.688151e+04</td>\n",
       "      <td>8.307524e+04</td>\n",
       "      <td>3.192478e+04</td>\n",
       "      <td>5.596387e+04</td>\n",
       "      <td>2.600183e+04</td>\n",
       "      <td>4.319188e+04</td>\n",
       "      <td>4.362391e+04</td>\n",
       "      <td>88.349461</td>\n",
       "    </tr>\n",
       "    <tr>\n",
       "      <th>min</th>\n",
       "      <td>73.000000</td>\n",
       "      <td>1.000000</td>\n",
       "      <td>0.000000</td>\n",
       "      <td>0.000000</td>\n",
       "      <td>1.000000</td>\n",
       "      <td>1.000000</td>\n",
       "      <td>-5.503960e+03</td>\n",
       "      <td>-3.149570e+03</td>\n",
       "      <td>1.428690e+03</td>\n",
       "      <td>-1.650610e+04</td>\n",
       "      <td>1.000000e-02</td>\n",
       "      <td>1.000000e-02</td>\n",
       "      <td>1.000000e-02</td>\n",
       "      <td>1.000000e-02</td>\n",
       "      <td>-3.374180e+03</td>\n",
       "      <td>-5.171920e+03</td>\n",
       "      <td>97.000000</td>\n",
       "    </tr>\n",
       "    <tr>\n",
       "      <th>25%</th>\n",
       "      <td>1957.000000</td>\n",
       "      <td>36.000000</td>\n",
       "      <td>0.000000</td>\n",
       "      <td>409.000000</td>\n",
       "      <td>2.000000</td>\n",
       "      <td>175.000000</td>\n",
       "      <td>1.764715e+03</td>\n",
       "      <td>1.894793e+03</td>\n",
       "      <td>2.197390e+03</td>\n",
       "      <td>1.792720e+03</td>\n",
       "      <td>3.600000e-01</td>\n",
       "      <td>3.600000e-01</td>\n",
       "      <td>4.600000e-01</td>\n",
       "      <td>4.700000e-01</td>\n",
       "      <td>2.009153e+03</td>\n",
       "      <td>2.079275e+03</td>\n",
       "      <td>108.000000</td>\n",
       "    </tr>\n",
       "    <tr>\n",
       "      <th>50%</th>\n",
       "      <td>2153.000000</td>\n",
       "      <td>46.000000</td>\n",
       "      <td>0.000000</td>\n",
       "      <td>834.000000</td>\n",
       "      <td>2.000000</td>\n",
       "      <td>566.000000</td>\n",
       "      <td>3.317940e+03</td>\n",
       "      <td>3.411915e+03</td>\n",
       "      <td>3.591030e+03</td>\n",
       "      <td>3.359815e+03</td>\n",
       "      <td>6.900000e-01</td>\n",
       "      <td>1.080000e+00</td>\n",
       "      <td>1.821450e+02</td>\n",
       "      <td>1.964200e+02</td>\n",
       "      <td>3.495945e+03</td>\n",
       "      <td>3.506895e+03</td>\n",
       "      <td>127.000000</td>\n",
       "    </tr>\n",
       "    <tr>\n",
       "      <th>75%</th>\n",
       "      <td>2292.000000</td>\n",
       "      <td>60.000000</td>\n",
       "      <td>0.000000</td>\n",
       "      <td>1096.000000</td>\n",
       "      <td>3.000000</td>\n",
       "      <td>1438.250000</td>\n",
       "      <td>6.822055e+03</td>\n",
       "      <td>6.847745e+03</td>\n",
       "      <td>6.825153e+03</td>\n",
       "      <td>6.616315e+03</td>\n",
       "      <td>9.291100e+02</td>\n",
       "      <td>1.053025e+03</td>\n",
       "      <td>1.537790e+03</td>\n",
       "      <td>1.561650e+03</td>\n",
       "      <td>6.882685e+03</td>\n",
       "      <td>6.791235e+03</td>\n",
       "      <td>192.000000</td>\n",
       "    </tr>\n",
       "    <tr>\n",
       "      <th>max</th>\n",
       "      <td>2476.000000</td>\n",
       "      <td>90.000000</td>\n",
       "      <td>52.000000</td>\n",
       "      <td>1649.000000</td>\n",
       "      <td>3.000000</td>\n",
       "      <td>4782.000000</td>\n",
       "      <td>5.905904e+06</td>\n",
       "      <td>5.740439e+06</td>\n",
       "      <td>5.700290e+06</td>\n",
       "      <td>5.010170e+06</td>\n",
       "      <td>1.226985e+07</td>\n",
       "      <td>2.361808e+06</td>\n",
       "      <td>7.637857e+06</td>\n",
       "      <td>1.414168e+06</td>\n",
       "      <td>5.778185e+06</td>\n",
       "      <td>5.720144e+06</td>\n",
       "      <td>1923.000000</td>\n",
       "    </tr>\n",
       "  </tbody>\n",
       "</table>\n",
       "</div>"
      ],
      "text/plain": [
       "            vintage           age    dependents          city  \\\n",
       "count  24408.000000  24408.000000  24408.000000  24408.000000   \n",
       "mean    2090.759505     48.301786      0.341282    797.302155   \n",
       "std      272.824196     17.375798      0.999470    433.215729   \n",
       "min       73.000000      1.000000      0.000000      0.000000   \n",
       "25%     1957.000000     36.000000      0.000000    409.000000   \n",
       "50%     2153.000000     46.000000      0.000000    834.000000   \n",
       "75%     2292.000000     60.000000      0.000000   1096.000000   \n",
       "max     2476.000000     90.000000     52.000000   1649.000000   \n",
       "\n",
       "       customer_nw_category   branch_code  current_balance  \\\n",
       "count          24408.000000  24408.000000     2.440800e+04   \n",
       "mean               2.217797    928.552688     7.512532e+03   \n",
       "std                0.667546    948.608465     4.382688e+04   \n",
       "min                1.000000      1.000000    -5.503960e+03   \n",
       "25%                2.000000    175.000000     1.764715e+03   \n",
       "50%                2.000000    566.000000     3.317940e+03   \n",
       "75%                3.000000   1438.250000     6.822055e+03   \n",
       "max                3.000000   4782.000000     5.905904e+06   \n",
       "\n",
       "       previous_month_end_balance  average_monthly_balance_prevQ  \\\n",
       "count                2.440800e+04                   2.440800e+04   \n",
       "mean                 7.622790e+03                   7.605444e+03   \n",
       "std                  4.373454e+04                   4.281387e+04   \n",
       "min                 -3.149570e+03                   1.428690e+03   \n",
       "25%                  1.894793e+03                   2.197390e+03   \n",
       "50%                  3.411915e+03                   3.591030e+03   \n",
       "75%                  6.847745e+03                   6.825153e+03   \n",
       "max                  5.740439e+06                   5.700290e+06   \n",
       "\n",
       "       average_monthly_balance_prevQ2  current_month_credit  \\\n",
       "count                    2.440800e+04          2.440800e+04   \n",
       "mean                     7.016962e+03          3.918491e+03   \n",
       "std                      3.688151e+04          8.307524e+04   \n",
       "min                     -1.650610e+04          1.000000e-02   \n",
       "25%                      1.792720e+03          3.600000e-01   \n",
       "50%                      3.359815e+03          6.900000e-01   \n",
       "75%                      6.616315e+03          9.291100e+02   \n",
       "max                      5.010170e+06          1.226985e+07   \n",
       "\n",
       "       previous_month_credit  current_month_debit  previous_month_debit  \\\n",
       "count           2.440800e+04         2.440800e+04          2.440800e+04   \n",
       "mean            3.719198e+03         4.099436e+03          3.741680e+03   \n",
       "std             3.192478e+04         5.596387e+04          2.600183e+04   \n",
       "min             1.000000e-02         1.000000e-02          1.000000e-02   \n",
       "25%             3.600000e-01         4.600000e-01          4.700000e-01   \n",
       "50%             1.080000e+00         1.821450e+02          1.964200e+02   \n",
       "75%             1.053025e+03         1.537790e+03          1.561650e+03   \n",
       "max             2.361808e+06         7.637857e+06          1.414168e+06   \n",
       "\n",
       "       current_month_balance  previous_month_balance  \\\n",
       "count           2.440800e+04            2.440800e+04   \n",
       "mean            7.583273e+03            7.608911e+03   \n",
       "std             4.319188e+04            4.362391e+04   \n",
       "min            -3.374180e+03           -5.171920e+03   \n",
       "25%             2.009153e+03            2.079275e+03   \n",
       "50%             3.495945e+03            3.506895e+03   \n",
       "75%             6.882685e+03            6.791235e+03   \n",
       "max             5.778185e+06            5.720144e+06   \n",
       "\n",
       "       days_since_last_transaction  \n",
       "count                 24408.000000  \n",
       "mean                    166.999631  \n",
       "std                      88.349461  \n",
       "min                      97.000000  \n",
       "25%                     108.000000  \n",
       "50%                     127.000000  \n",
       "75%                     192.000000  \n",
       "max                    1923.000000  "
      ]
     },
     "execution_count": 11,
     "metadata": {},
     "output_type": "execute_result"
    }
   ],
   "source": [
    "X.describe()"
   ]
  },
  {
   "cell_type": "markdown",
   "metadata": {},
   "source": [
    "#### Partion the Dataset"
   ]
  },
  {
   "cell_type": "code",
   "execution_count": 12,
   "metadata": {},
   "outputs": [],
   "source": [
    "#Split the data into training and testing sets\n",
    "X_train, X_test, y_train, y_test = train_test_split(X, y, test_size=0.2, random_state=42)"
   ]
  },
  {
   "cell_type": "code",
   "execution_count": 13,
   "metadata": {},
   "outputs": [],
   "source": [
    "# Index of X_test\n",
    "X_test_unscaled = X_test.copy()"
   ]
  },
  {
   "cell_type": "markdown",
   "metadata": {},
   "source": [
    "#### Oversample the Dataset\n",
    "We are oversampling the dataset because we don't need to preserve the class probabilities in our predictions. This is because a False negative (misidentifying customer who is leaving as one who isn't leaving) is more expensive than a False Positive (misidentifying a customer who isn't planning to leave as leaving). By oversampling the dataset, we are priroritizing the reduction of False Negatives at the cost of False Positives. With more accurate data about the actual cost of a False Positive and False Negative, we can create a more accruate approach using custom error functions. "
   ]
  },
  {
   "cell_type": "code",
   "execution_count": 14,
   "metadata": {},
   "outputs": [],
   "source": [
    "# Define the oversampling method\n",
    "sm = SMOTE(random_state=42)\n",
    "\n",
    "# Apply oversampling only on the training data\n",
    "X_train_os, y_train_res = sm.fit_resample(X_train, y_train)"
   ]
  },
  {
   "cell_type": "markdown",
   "metadata": {},
   "source": [
    "#### Scale the Dataset"
   ]
  },
  {
   "cell_type": "code",
   "execution_count": 15,
   "metadata": {},
   "outputs": [],
   "source": [
    "# Using a MinMax Scaler for the Data\n",
    "scaler = MinMaxScaler()\n",
    "df_train_scaled = scaler.fit_transform(X_train_os)\n",
    "X_train_res = pd.DataFrame(df_train_scaled, columns=X.columns)\n",
    "df_test_scaled = scaler.transform(X_test)\n",
    "X_test = pd.DataFrame(df_test_scaled, columns=X.columns)\n",
    "X_test.index = X_test_unscaled.index"
   ]
  },
  {
   "cell_type": "markdown",
   "metadata": {},
   "source": [
    "#### RandomForest for Feature Selection"
   ]
  },
  {
   "cell_type": "code",
   "execution_count": 16,
   "metadata": {
    "colab": {
     "base_uri": "https://localhost:8080/",
     "height": 394
    },
    "id": "FjeBgmKATfIu",
    "outputId": "72f10f05-a654-441c-c9f1-1847dc236983"
   },
   "outputs": [],
   "source": [
    "# Get Top 10 features for Random Forest's\n",
    "rf = RandomForestClassifier(random_state=42)\n",
    "rf.fit(X_train_res, y_train_res)\n",
    "importances = rf.feature_importances_\n",
    "\n",
    "feature_importances = pd.Series(rf.feature_importances_, index=X_train_res.columns).nlargest(10)\n",
    "most_important_features = list(feature_importances.index)\n",
    "most_important_features.sort()"
   ]
  },
  {
   "cell_type": "code",
   "execution_count": 17,
   "metadata": {},
   "outputs": [
    {
     "data": {
      "image/png": "[encoded data removed]",
      "text/plain": [
       "<Figure size 800x600 with 1 Axes>"
      ]
     },
     "metadata": {},
     "output_type": "display_data"
    }
   ],
   "source": [
    "plt.figure(figsize=(8, 6))\n",
    "feature_importances.plot(kind='barh')\n",
    "plt.xlabel('Feature Importance')\n",
    "plt.ylabel('Features')\n",
    "plt.title('Top 10 Feature Importances')\n",
    "plt.show()"
   ]
  },
  {
   "cell_type": "code",
   "execution_count": 18,
   "metadata": {},
   "outputs": [],
   "source": [
    "# Filter the dataset to include only the top 10 features\n",
    "X_train_res = X_train_res[most_important_features]\n",
    "X_test = X_test[most_important_features]"
   ]
  },
  {
   "cell_type": "markdown",
   "metadata": {},
   "source": [
    "## Building the Models"
   ]
  },
  {
   "cell_type": "markdown",
   "metadata": {},
   "source": [
    "### Random Forest Models"
   ]
  },
  {
   "cell_type": "code",
   "execution_count": 19,
   "metadata": {},
   "outputs": [
    {
     "data": {
      "text/html": [
       "<style>#sk-container-id-1 {color: black;background-color: white;}#sk-container-id-1 pre{padding: 0;}#sk-container-id-1 div.sk-toggleable {background-color: white;}#sk-container-id-1 label.sk-toggleable__label {cursor: pointer;display: block;width: 100%;margin-bottom: 0;padding: 0.3em;box-sizing: border-box;text-align: center;}#sk-container-id-1 label.sk-toggleable__label-arrow:before {content: \"▸\";float: left;margin-right: 0.25em;color: #696969;}#sk-container-id-1 label.sk-toggleable__label-arrow:hover:before {color: black;}#sk-container-id-1 div.sk-estimator:hover label.sk-toggleable__label-arrow:before {color: black;}#sk-container-id-1 div.sk-toggleable__content {max-height: 0;max-width: 0;overflow: hidden;text-align: left;background-color: #f0f8ff;}#sk-container-id-1 div.sk-toggleable__content pre {margin: 0.2em;color: black;border-radius: 0.25em;background-color: #f0f8ff;}#sk-container-id-1 input.sk-toggleable__control:checked~div.sk-toggleable__content {max-height: 200px;max-width: 100%;overflow: auto;}#sk-container-id-1 input.sk-toggleable__control:checked~label.sk-toggleable__label-arrow:before {content: \"▾\";}#sk-container-id-1 div.sk-estimator input.sk-toggleable__control:checked~label.sk-toggleable__label {background-color: #d4ebff;}#sk-container-id-1 div.sk-label input.sk-toggleable__control:checked~label.sk-toggleable__label {background-color: #d4ebff;}#sk-container-id-1 input.sk-hidden--visually {border: 0;clip: rect(1px 1px 1px 1px);clip: rect(1px, 1px, 1px, 1px);height: 1px;margin: -1px;overflow: hidden;padding: 0;position: absolute;width: 1px;}#sk-container-id-1 div.sk-estimator {font-family: monospace;background-color: #f0f8ff;border: 1px dotted black;border-radius: 0.25em;box-sizing: border-box;margin-bottom: 0.5em;}#sk-container-id-1 div.sk-estimator:hover {background-color: #d4ebff;}#sk-container-id-1 div.sk-parallel-item::after {content: \"\";width: 100%;border-bottom: 1px solid gray;flex-grow: 1;}#sk-container-id-1 div.sk-label:hover label.sk-toggleable__label {background-color: #d4ebff;}#sk-container-id-1 div.sk-serial::before {content: \"\";position: absolute;border-left: 1px solid gray;box-sizing: border-box;top: 0;bottom: 0;left: 50%;z-index: 0;}#sk-container-id-1 div.sk-serial {display: flex;flex-direction: column;align-items: center;background-color: white;padding-right: 0.2em;padding-left: 0.2em;position: relative;}#sk-container-id-1 div.sk-item {position: relative;z-index: 1;}#sk-container-id-1 div.sk-parallel {display: flex;align-items: stretch;justify-content: center;background-color: white;position: relative;}#sk-container-id-1 div.sk-item::before, #sk-container-id-1 div.sk-parallel-item::before {content: \"\";position: absolute;border-left: 1px solid gray;box-sizing: border-box;top: 0;bottom: 0;left: 50%;z-index: -1;}#sk-container-id-1 div.sk-parallel-item {display: flex;flex-direction: column;z-index: 1;position: relative;background-color: white;}#sk-container-id-1 div.sk-parallel-item:first-child::after {align-self: flex-end;width: 50%;}#sk-container-id-1 div.sk-parallel-item:last-child::after {align-self: flex-start;width: 50%;}#sk-container-id-1 div.sk-parallel-item:only-child::after {width: 0;}#sk-container-id-1 div.sk-dashed-wrapped {border: 1px dashed gray;margin: 0 0.4em 0.5em 0.4em;box-sizing: border-box;padding-bottom: 0.4em;background-color: white;}#sk-container-id-1 div.sk-label label {font-family: monospace;font-weight: bold;display: inline-block;line-height: 1.2em;}#sk-container-id-1 div.sk-label-container {text-align: center;}#sk-container-id-1 div.sk-container {/* jupyter's `normalize.less` sets `[hidden] { display: none; }` but bootstrap.min.css set `[hidden] { display: none !important; }` so we also need the `!important` here to be able to override the default hidden behavior on the sphinx rendered scikit-learn.org. See: https://github.com/scikit-learn/scikit-learn/issues/21755 */display: inline-block !important;position: relative;}#sk-container-id-1 div.sk-text-repr-fallback {display: none;}</style><div id=\"sk-container-id-1\" class=\"sk-top-container\"><div class=\"sk-text-repr-fallback\"><pre>RandomForestClassifier(max_depth=30, n_estimators=300)</pre><b>In a Jupyter environment, please rerun this cell to show the HTML representation or trust the notebook. <br />On GitHub, the HTML representation is unable to render, please try loading this page with nbviewer.org.</b></div><div class=\"sk-container\" hidden><div class=\"sk-item\"><div class=\"sk-estimator sk-toggleable\"><input class=\"sk-toggleable__control sk-hidden--visually\" id=\"sk-estimator-id-1\" type=\"checkbox\" checked><label for=\"sk-estimator-id-1\" class=\"sk-toggleable__label sk-toggleable__label-arrow\">RandomForestClassifier</label><div class=\"sk-toggleable__content\"><pre>RandomForestClassifier(max_depth=30, n_estimators=300)</pre></div></div></div></div></div>"
      ],
      "text/plain": [
       "RandomForestClassifier(max_depth=30, n_estimators=300)"
      ]
     },
     "execution_count": 19,
     "metadata": {},
     "output_type": "execute_result"
    }
   ],
   "source": [
    "# Define the parameter grid\n",
    "param_grid = {\n",
    "    'n_estimators': [300],\n",
    "    'max_depth': [30],\n",
    "    'min_samples_split': [2],\n",
    "}\n",
    "\n",
    "# Define the StratifiedKFold object\n",
    "cv = StratifiedKFold(n_splits=5)\n",
    "\n",
    "# Create the GridSearchCV object. For scoring, use aucpr\n",
    "grid_search = GridSearchCV(RandomForestClassifier(random_state=42), param_grid, cv=cv, scoring='roc_auc', n_jobs=-1)\n",
    "\n",
    "# Fit the GridSearchCV object to the data\n",
    "grid_search.fit(X_train_res, y_train_res)\n",
    "\n",
    "# Get the best parameters\n",
    "best_params = grid_search.best_params_\n",
    "\n",
    "# Train the model using the best parameters\n",
    "rf = RandomForestClassifier(**best_params)\n",
    "rf.fit(X_train_res, y_train_res)"
   ]
  },
  {
   "cell_type": "code",
   "execution_count": 20,
   "metadata": {
    "colab": {
     "base_uri": "https://localhost:8080/"
    },
    "id": "lmDcd5kLTjRT",
    "outputId": "9ea12f4f-5654-4092-b230-81ef7a93132c"
   },
   "outputs": [
    {
     "name": "stdout",
     "output_type": "stream",
     "text": [
      "Accuracy: 0.831421548545678\n",
      "F1 Score: 0.5923724616146608\n",
      "ROC AUC Score: 0.7541889258365365\n",
      "Specificity: 0.8808857215576482\n",
      "Sensitivity: 0.6274921301154249\n",
      "True Positive: 3461\n",
      "False Positive: 468\n",
      "False Negative: 355\n",
      "True Negative: 355\n"
     ]
    }
   ],
   "source": [
    "# Make predictions\n",
    "y_pred_rf = rf.predict(X_test)\n",
    "\n",
    "# Evaluate the model\n",
    "model_performance_metrics[\"rf\"] = generate_results(y_test, y_pred_rf, True)"
   ]
  },
  {
   "cell_type": "code",
   "execution_count": 21,
   "metadata": {
    "colab": {
     "base_uri": "https://localhost:8080/",
     "height": 472
    },
    "id": "WN31UHKDYQ2U",
    "outputId": "b944cb52-6f6b-4123-9b9c-5b84f0b03afd"
   },
   "outputs": [
    {
     "data": {
      "image/png": "[encoded data removed]",
      "text/plain": [
       "<Figure size 640x480 with 1 Axes>"
      ]
     },
     "metadata": {},
     "output_type": "display_data"
    }
   ],
   "source": [
    "generate_ROC_curve(y_test, y_pred_rf)"
   ]
  },
  {
   "cell_type": "code",
   "execution_count": 22,
   "metadata": {
    "colab": {
     "base_uri": "https://localhost:8080/"
    },
    "id": "CbbA2PoUlci1",
    "outputId": "35c9b3d3-9dde-4cc1-e23d-f83b4445acac"
   },
   "outputs": [
    {
     "name": "stdout",
     "output_type": "stream",
     "text": [
      "Model exported successfully to model_results/pkl/random_forest.pkl\n"
     ]
    }
   ],
   "source": [
    "generate_pkl(rf,pkl_path / Path(\"random_forest.pkl\"))"
   ]
  },
  {
   "cell_type": "markdown",
   "metadata": {
    "id": "KbRM46PdoLLL"
   },
   "source": [
    "### ADA Boosting"
   ]
  },
  {
   "cell_type": "code",
   "execution_count": 23,
   "metadata": {
    "id": "UWf839Xoo-6P"
   },
   "outputs": [
    {
     "name": "stdout",
     "output_type": "stream",
     "text": [
      "Best Parameters: {'learning_rate': 0.1, 'n_estimators': 50}\n",
      "Best Score: 0.7775719617802122\n"
     ]
    }
   ],
   "source": [
    "# Define the parameter grid\n",
    "param_grid = {\n",
    "    'n_estimators': [50, 100, 150],          # Number of weak learners\n",
    "    'learning_rate': [0.1, 0.5, 1.0]         # Learning rate\n",
    "}\n",
    "\n",
    "# Initialize AdaBoost classifier with base estimator\n",
    "base_estimator = DecisionTreeClassifier()\n",
    "adaboost_clf = AdaBoostClassifier(estimator=base_estimator, random_state=42)\n",
    "\n",
    "# Perform grid search with cross-validation\n",
    "grid_search = GridSearchCV(adaboost_clf, param_grid, cv=5, scoring='roc_auc')\n",
    "grid_search.fit(X_train_res, y_train_res)\n",
    "\n",
    "# Get the best parameters and best score\n",
    "best_params = grid_search.best_params_\n",
    "best_score = grid_search.best_score_\n",
    "\n",
    "print(\"Best Parameters:\", best_params)\n",
    "print(\"Best Score:\", best_score)"
   ]
  },
  {
   "cell_type": "code",
   "execution_count": 24,
   "metadata": {
    "colab": {
     "base_uri": "https://localhost:8080/"
    },
    "id": "it2BpwbgpXkW",
    "outputId": "8f5db86c-109c-4623-9a50-27b0b03108ef"
   },
   "outputs": [],
   "source": [
    "# Evaluate the model with the best parameters\n",
    "best_estimator = grid_search.best_estimator_\n",
    "y_pred_ada = best_estimator.predict(X_test)"
   ]
  },
  {
   "cell_type": "code",
   "execution_count": 25,
   "metadata": {},
   "outputs": [
    {
     "name": "stdout",
     "output_type": "stream",
     "text": [
      "Accuracy: 0.7314625153625564\n",
      "F1 Score: 0.45123482628714945\n",
      "ROC AUC Score: 0.6686400022220222\n",
      "Specificity: 0.7716976329854925\n",
      "Sensitivity: 0.565582371458552\n",
      "True Positive: 3032\n",
      "False Positive: 897\n",
      "False Negative: 414\n",
      "True Negative: 414\n"
     ]
    }
   ],
   "source": [
    "# Evaluate the model\n",
    "model_performance_metrics[\"ada\"] = generate_results(y_test, y_pred_ada, True)"
   ]
  },
  {
   "cell_type": "code",
   "execution_count": 26,
   "metadata": {},
   "outputs": [
    {
     "data": {
      "image/png": "[encoded data removed]",
      "text/plain": [
       "<Figure size 640x480 with 1 Axes>"
      ]
     },
     "metadata": {},
     "output_type": "display_data"
    }
   ],
   "source": [
    "generate_ROC_curve(y_test, y_pred_ada)"
   ]
  },
  {
   "cell_type": "code",
   "execution_count": 27,
   "metadata": {
    "colab": {
     "base_uri": "https://localhost:8080/"
    },
    "id": "jLWnUX7auqIJ",
    "outputId": "9da868b5-3d86-43e7-8da0-86ed270c1a09"
   },
   "outputs": [
    {
     "name": "stdout",
     "output_type": "stream",
     "text": [
      "Model exported successfully to model_results/pkl/ada_boost.pkl\n"
     ]
    }
   ],
   "source": [
    "generate_pkl(best_estimator,pkl_path/Path(\"ada_boost.pkl\"))"
   ]
  },
  {
   "cell_type": "markdown",
   "metadata": {
    "id": "lz6GXFW_vB2H"
   },
   "source": [
    "### Logistic Regression"
   ]
  },
  {
   "cell_type": "code",
   "execution_count": 28,
   "metadata": {
    "colab": {
     "base_uri": "https://localhost:8080/"
    },
    "id": "S_PHWkUuvc3z",
    "outputId": "c2d15dd3-cfec-4aa2-c4d1-2ce28cda0a99"
   },
   "outputs": [],
   "source": [
    "# Initialize the logistic regression model\n",
    "logistic_reg = LogisticRegression(max_iter=1000, random_state=42)\n",
    "\n",
    "# Fit the model to the training data\n",
    "logistic_reg.fit(X_train_res, y_train_res)\n",
    "\n",
    "# Make predictions on the testing data\n",
    "y_pred_logit = logistic_reg.predict(X_test)"
   ]
  },
  {
   "cell_type": "code",
   "execution_count": 29,
   "metadata": {
    "colab": {
     "base_uri": "https://localhost:8080/"
    },
    "id": "spbpfOMu5buW",
    "outputId": "56041cee-6606-4ada-b83e-7f9838ae1d06"
   },
   "outputs": [
    {
     "name": "stdout",
     "output_type": "stream",
     "text": [
      "Accuracy: 0.5921753379762392\n",
      "F1 Score: 0.3752745528710386\n",
      "ROC AUC Score: 0.6055505954725763\n",
      "Specificity: 0.5836090608297276\n",
      "Sensitivity: 0.6274921301154249\n",
      "True Positive: 2293\n",
      "False Positive: 1636\n",
      "False Negative: 355\n",
      "True Negative: 355\n"
     ]
    }
   ],
   "source": [
    "# Evaluate the model\n",
    "model_performance_metrics[\"logit\"] = generate_results(y_test, y_pred_logit, True)"
   ]
  },
  {
   "cell_type": "code",
   "execution_count": 30,
   "metadata": {
    "colab": {
     "base_uri": "https://localhost:8080/",
     "height": 472
    },
    "id": "j9k8JSP55v34",
    "outputId": "29833ac2-30b1-4c7f-d366-8d2804eb9b14"
   },
   "outputs": [
    {
     "data": {
      "image/png": "[encoded data removed]",
      "text/plain": [
       "<Figure size 640x480 with 1 Axes>"
      ]
     },
     "metadata": {},
     "output_type": "display_data"
    }
   ],
   "source": [
    "generate_ROC_curve(y_test, y_pred_logit)"
   ]
  },
  {
   "cell_type": "code",
   "execution_count": 31,
   "metadata": {
    "colab": {
     "base_uri": "https://localhost:8080/"
    },
    "id": "dNkzZvuOvtvD",
    "outputId": "223cdeae-b031-4e65-edc7-3046a965469d"
   },
   "outputs": [
    {
     "name": "stdout",
     "output_type": "stream",
     "text": [
      "Model exported successfully to model_results/pkl/logit.pkl\n"
     ]
    }
   ],
   "source": [
    "generate_pkl(logistic_reg,pkl_path/Path(\"logit.pkl\"))"
   ]
  },
  {
   "cell_type": "markdown",
   "metadata": {
    "id": "2zliy04vwZkQ"
   },
   "source": [
    "### XG Boosting"
   ]
  },
  {
   "cell_type": "code",
   "execution_count": 32,
   "metadata": {},
   "outputs": [
    {
     "data": {
      "text/plain": [
       "Index(['average_monthly_balance_prevQ', 'average_monthly_balance_prevQ2',\n",
       "       'branch_code', 'current_balance', 'current_month_balance',\n",
       "       'current_month_debit', 'days_since_last_transaction',\n",
       "       'previous_month_balance', 'previous_month_debit',\n",
       "       'previous_month_end_balance'],\n",
       "      dtype='object')"
      ]
     },
     "execution_count": 32,
     "metadata": {},
     "output_type": "execute_result"
    }
   ],
   "source": [
    "X_train_res.columns"
   ]
  },
  {
   "cell_type": "code",
   "execution_count": 33,
   "metadata": {
    "colab": {
     "base_uri": "https://localhost:8080/"
    },
    "id": "z82nGBpwwYyx",
    "outputId": "7d7b9cda-3f64-4e08-fc11-00eed6ede908"
   },
   "outputs": [],
   "source": [
    "# Initialize the XG Boost model \n",
    "xg_model = xgb.XGBClassifier(objective='multi:softmax', num_class=3, random_state=42)\n",
    "xg_model.fit(X_train_res, y_train_res)\n",
    "\n",
    "# Make predictions\n",
    "y_pred_XG = xg_model.predict(X_test)"
   ]
  },
  {
   "cell_type": "code",
   "execution_count": 34,
   "metadata": {
    "colab": {
     "base_uri": "https://localhost:8080/"
    },
    "id": "8-Ipal2B6euZ",
    "outputId": "935651ab-f1f6-4936-c8f7-cd3824c50079"
   },
   "outputs": [
    {
     "name": "stdout",
     "output_type": "stream",
     "text": [
      "Accuracy: 0.8144203195411717\n",
      "F1 Score: 0.5618955512572534\n",
      "ROC AUC Score: 0.7368706395818538\n",
      "Specificity: 0.8640875540850089\n",
      "Sensitivity: 0.6096537250786989\n",
      "True Positive: 3395\n",
      "False Positive: 534\n",
      "False Negative: 372\n",
      "True Negative: 372\n"
     ]
    }
   ],
   "source": [
    "# Evaluate the model\n",
    "model_performance_metrics[\"xg\"] = generate_results(y_test, y_pred_XG, True)"
   ]
  },
  {
   "cell_type": "code",
   "execution_count": 35,
   "metadata": {
    "colab": {
     "base_uri": "https://localhost:8080/",
     "height": 472
    },
    "id": "tcYfDuec6zMy",
    "outputId": "2910f12f-2bad-4e4b-87a6-8c1c06ba0ccc"
   },
   "outputs": [
    {
     "data": {
      "image/png": "[encoded data removed]",
      "text/plain": [
       "<Figure size 640x480 with 1 Axes>"
      ]
     },
     "metadata": {},
     "output_type": "display_data"
    }
   ],
   "source": [
    "generate_ROC_curve(y_test, y_pred_XG)"
   ]
  },
  {
   "cell_type": "code",
   "execution_count": 36,
   "metadata": {
    "colab": {
     "base_uri": "https://localhost:8080/"
    },
    "id": "stDPzfqnw0st",
    "outputId": "f72582b7-58d7-4d0c-a09e-f2f7d11780de"
   },
   "outputs": [
    {
     "name": "stdout",
     "output_type": "stream",
     "text": [
      "Model exported successfully to model_results/pkl/xg_model.pkl\n"
     ]
    }
   ],
   "source": [
    "generate_pkl(xg_model,pkl_path/Path(\"xg_model.pkl\"))"
   ]
  },
  {
   "cell_type": "markdown",
   "metadata": {},
   "source": [
    "### Mixed Model"
   ]
  },
  {
   "cell_type": "code",
   "execution_count": 37,
   "metadata": {},
   "outputs": [
    {
     "data": {
      "text/html": [
       "<div>\n",
       "<style scoped>\n",
       "    .dataframe tbody tr th:only-of-type {\n",
       "        vertical-align: middle;\n",
       "    }\n",
       "\n",
       "    .dataframe tbody tr th {\n",
       "        vertical-align: top;\n",
       "    }\n",
       "\n",
       "    .dataframe thead th {\n",
       "        text-align: right;\n",
       "    }\n",
       "</style>\n",
       "<table border=\"1\" class=\"dataframe\">\n",
       "  <thead>\n",
       "    <tr style=\"text-align: right;\">\n",
       "      <th></th>\n",
       "      <th>churn</th>\n",
       "      <th>ada</th>\n",
       "      <th>logit</th>\n",
       "      <th>rf</th>\n",
       "      <th>xg</th>\n",
       "    </tr>\n",
       "  </thead>\n",
       "  <tbody>\n",
       "    <tr>\n",
       "      <th>7356</th>\n",
       "      <td>0</td>\n",
       "      <td>0</td>\n",
       "      <td>0</td>\n",
       "      <td>0</td>\n",
       "      <td>0</td>\n",
       "    </tr>\n",
       "    <tr>\n",
       "      <th>10607</th>\n",
       "      <td>0</td>\n",
       "      <td>0</td>\n",
       "      <td>0</td>\n",
       "      <td>0</td>\n",
       "      <td>0</td>\n",
       "    </tr>\n",
       "    <tr>\n",
       "      <th>10877</th>\n",
       "      <td>0</td>\n",
       "      <td>0</td>\n",
       "      <td>1</td>\n",
       "      <td>0</td>\n",
       "      <td>0</td>\n",
       "    </tr>\n",
       "    <tr>\n",
       "      <th>17989</th>\n",
       "      <td>0</td>\n",
       "      <td>1</td>\n",
       "      <td>1</td>\n",
       "      <td>0</td>\n",
       "      <td>0</td>\n",
       "    </tr>\n",
       "    <tr>\n",
       "      <th>12461</th>\n",
       "      <td>0</td>\n",
       "      <td>0</td>\n",
       "      <td>1</td>\n",
       "      <td>0</td>\n",
       "      <td>0</td>\n",
       "    </tr>\n",
       "    <tr>\n",
       "      <th>...</th>\n",
       "      <td>...</td>\n",
       "      <td>...</td>\n",
       "      <td>...</td>\n",
       "      <td>...</td>\n",
       "      <td>...</td>\n",
       "    </tr>\n",
       "    <tr>\n",
       "      <th>17001</th>\n",
       "      <td>0</td>\n",
       "      <td>1</td>\n",
       "      <td>0</td>\n",
       "      <td>1</td>\n",
       "      <td>1</td>\n",
       "    </tr>\n",
       "    <tr>\n",
       "      <th>23588</th>\n",
       "      <td>0</td>\n",
       "      <td>1</td>\n",
       "      <td>0</td>\n",
       "      <td>1</td>\n",
       "      <td>1</td>\n",
       "    </tr>\n",
       "    <tr>\n",
       "      <th>15487</th>\n",
       "      <td>0</td>\n",
       "      <td>0</td>\n",
       "      <td>1</td>\n",
       "      <td>0</td>\n",
       "      <td>0</td>\n",
       "    </tr>\n",
       "    <tr>\n",
       "      <th>18568</th>\n",
       "      <td>0</td>\n",
       "      <td>0</td>\n",
       "      <td>1</td>\n",
       "      <td>0</td>\n",
       "      <td>0</td>\n",
       "    </tr>\n",
       "    <tr>\n",
       "      <th>12783</th>\n",
       "      <td>0</td>\n",
       "      <td>0</td>\n",
       "      <td>0</td>\n",
       "      <td>0</td>\n",
       "      <td>0</td>\n",
       "    </tr>\n",
       "  </tbody>\n",
       "</table>\n",
       "<p>4882 rows × 5 columns</p>\n",
       "</div>"
      ],
      "text/plain": [
       "       churn  ada  logit  rf  xg\n",
       "7356       0    0      0   0   0\n",
       "10607      0    0      0   0   0\n",
       "10877      0    0      1   0   0\n",
       "17989      0    1      1   0   0\n",
       "12461      0    0      1   0   0\n",
       "...      ...  ...    ...  ..  ..\n",
       "17001      0    1      0   1   1\n",
       "23588      0    1      0   1   1\n",
       "15487      0    0      1   0   0\n",
       "18568      0    0      1   0   0\n",
       "12783      0    0      0   0   0\n",
       "\n",
       "[4882 rows x 5 columns]"
      ]
     },
     "execution_count": 37,
     "metadata": {},
     "output_type": "execute_result"
    }
   ],
   "source": [
    "# Create results dataframe to find TP, TN, FN, and FP for test casing\n",
    "results = pd.DataFrame(y_test)\n",
    "results[\"ada\"], results['logit'], results['rf'], results['xg'] = [y_pred_ada, y_pred_logit, y_pred_rf, y_pred_XG]\n",
    "results"
   ]
  },
  {
   "cell_type": "code",
   "execution_count": 38,
   "metadata": {},
   "outputs": [],
   "source": [
    "# Define a function to find the most frequent value\n",
    "def frequent_value(row):\n",
    "    if row['pred_sum'] in [0, 1]:\n",
    "        return 0\n",
    "    elif row['pred_sum'] in [3, 4]:\n",
    "        return 1\n",
    "    else:  # For value 2\n",
    "        return row['xg']\n",
    "\n",
    "\n",
    "# Find Most Frequent Answer from all Models\n",
    "results[\"pred_sum\"] = results[\"ada\"] + results['logit'] + results['rf'] + results['xg']\n",
    "results[\"mixed_model\"] = results.apply(frequent_value, axis=1)"
   ]
  },
  {
   "cell_type": "code",
   "execution_count": 39,
   "metadata": {},
   "outputs": [
    {
     "name": "stdout",
     "output_type": "stream",
     "text": [
      "Accuracy: 0.8226136829168373\n",
      "F1 Score: 0.5771484374999999\n",
      "ROC AUC Score: 0.7459349946332288\n",
      "Specificity: 0.8717230847543904\n",
      "Sensitivity: 0.6201469045120671\n",
      "True Positive: 3425\n",
      "False Positive: 504\n",
      "False Negative: 362\n",
      "True Negative: 362\n"
     ]
    }
   ],
   "source": [
    "# Evaluate the model\n",
    "model_performance_metrics[\"mixed\"] = generate_results(y_test, results[\"mixed_model\"], True)"
   ]
  },
  {
   "cell_type": "code",
   "execution_count": 40,
   "metadata": {},
   "outputs": [
    {
     "data": {
      "image/png": "[encoded data removed]",
      "text/plain": [
       "<Figure size 640x480 with 1 Axes>"
      ]
     },
     "metadata": {},
     "output_type": "display_data"
    }
   ],
   "source": [
    "generate_ROC_curve(y_test, results[\"mixed_model\"])"
   ]
  },
  {
   "cell_type": "markdown",
   "metadata": {},
   "source": [
    "## Comparing Model Performance"
   ]
  },
  {
   "cell_type": "code",
   "execution_count": 41,
   "metadata": {},
   "outputs": [
    {
     "data": {
      "text/html": [
       "<div>\n",
       "<style scoped>\n",
       "    .dataframe tbody tr th:only-of-type {\n",
       "        vertical-align: middle;\n",
       "    }\n",
       "\n",
       "    .dataframe tbody tr th {\n",
       "        vertical-align: top;\n",
       "    }\n",
       "\n",
       "    .dataframe thead th {\n",
       "        text-align: right;\n",
       "    }\n",
       "</style>\n",
       "<table border=\"1\" class=\"dataframe\">\n",
       "  <thead>\n",
       "    <tr style=\"text-align: right;\">\n",
       "      <th></th>\n",
       "      <th>rf</th>\n",
       "      <th>ada</th>\n",
       "      <th>logit</th>\n",
       "      <th>xg</th>\n",
       "      <th>mixed</th>\n",
       "    </tr>\n",
       "  </thead>\n",
       "  <tbody>\n",
       "    <tr>\n",
       "      <th>Accuracy</th>\n",
       "      <td>0.831</td>\n",
       "      <td>0.731</td>\n",
       "      <td>0.592</td>\n",
       "      <td>0.814</td>\n",
       "      <td>0.823</td>\n",
       "    </tr>\n",
       "    <tr>\n",
       "      <th>F1 Score</th>\n",
       "      <td>0.592</td>\n",
       "      <td>0.451</td>\n",
       "      <td>0.375</td>\n",
       "      <td>0.562</td>\n",
       "      <td>0.577</td>\n",
       "    </tr>\n",
       "    <tr>\n",
       "      <th>ROC AUC Score</th>\n",
       "      <td>0.754</td>\n",
       "      <td>0.669</td>\n",
       "      <td>0.606</td>\n",
       "      <td>0.737</td>\n",
       "      <td>0.746</td>\n",
       "    </tr>\n",
       "    <tr>\n",
       "      <th>Specificity</th>\n",
       "      <td>0.881</td>\n",
       "      <td>0.772</td>\n",
       "      <td>0.584</td>\n",
       "      <td>0.864</td>\n",
       "      <td>0.872</td>\n",
       "    </tr>\n",
       "    <tr>\n",
       "      <th>Sensitivity</th>\n",
       "      <td>0.627</td>\n",
       "      <td>0.566</td>\n",
       "      <td>0.627</td>\n",
       "      <td>0.610</td>\n",
       "      <td>0.620</td>\n",
       "    </tr>\n",
       "    <tr>\n",
       "      <th>True Positive</th>\n",
       "      <td>3461.000</td>\n",
       "      <td>3032.000</td>\n",
       "      <td>2293.000</td>\n",
       "      <td>3395.000</td>\n",
       "      <td>3425.000</td>\n",
       "    </tr>\n",
       "    <tr>\n",
       "      <th>False Positive</th>\n",
       "      <td>468.000</td>\n",
       "      <td>897.000</td>\n",
       "      <td>1636.000</td>\n",
       "      <td>534.000</td>\n",
       "      <td>504.000</td>\n",
       "    </tr>\n",
       "    <tr>\n",
       "      <th>False Negative</th>\n",
       "      <td>355.000</td>\n",
       "      <td>414.000</td>\n",
       "      <td>355.000</td>\n",
       "      <td>372.000</td>\n",
       "      <td>362.000</td>\n",
       "    </tr>\n",
       "    <tr>\n",
       "      <th>True Negative</th>\n",
       "      <td>355.000</td>\n",
       "      <td>414.000</td>\n",
       "      <td>355.000</td>\n",
       "      <td>372.000</td>\n",
       "      <td>362.000</td>\n",
       "    </tr>\n",
       "  </tbody>\n",
       "</table>\n",
       "</div>"
      ],
      "text/plain": [
       "                      rf       ada     logit        xg     mixed\n",
       "Accuracy           0.831     0.731     0.592     0.814     0.823\n",
       "F1 Score           0.592     0.451     0.375     0.562     0.577\n",
       "ROC AUC Score      0.754     0.669     0.606     0.737     0.746\n",
       "Specificity        0.881     0.772     0.584     0.864     0.872\n",
       "Sensitivity        0.627     0.566     0.627     0.610     0.620\n",
       "True Positive   3461.000  3032.000  2293.000  3395.000  3425.000\n",
       "False Positive   468.000   897.000  1636.000   534.000   504.000\n",
       "False Negative   355.000   414.000   355.000   372.000   362.000\n",
       "True Negative    355.000   414.000   355.000   372.000   362.000"
      ]
     },
     "execution_count": 41,
     "metadata": {},
     "output_type": "execute_result"
    }
   ],
   "source": [
    "model_performance_metrics_df = pd.DataFrame(model_performance_metrics)\n",
    "round(model_performance_metrics_df,3)"
   ]
  },
  {
   "cell_type": "code",
   "execution_count": 42,
   "metadata": {},
   "outputs": [],
   "source": [
    "model_performance_metrics_df.to_excel(model_results_path/Path(\"model_comparision_os+standardizing.xlsx\"))"
   ]
  },
  {
   "cell_type": "markdown",
   "metadata": {
    "jp-MarkdownHeadingCollapsed": true
   },
   "source": [
    "## Testing Pkl Files"
   ]
  },
  {
   "cell_type": "code",
   "execution_count": 43,
   "metadata": {},
   "outputs": [
    {
     "data": {
      "text/plain": [
       "['average_monthly_balance_prevQ',\n",
       " 'average_monthly_balance_prevQ2',\n",
       " 'branch_code',\n",
       " 'current_balance',\n",
       " 'current_month_balance',\n",
       " 'current_month_debit',\n",
       " 'days_since_last_transaction',\n",
       " 'previous_month_balance',\n",
       " 'previous_month_debit',\n",
       " 'previous_month_end_balance']"
      ]
     },
     "execution_count": 43,
     "metadata": {},
     "output_type": "execute_result"
    }
   ],
   "source": [
    "sorted(most_important_features)"
   ]
  },
  {
   "cell_type": "code",
   "execution_count": 44,
   "metadata": {
    "id": "7x7Awz1Vx8Ou"
   },
   "outputs": [
    {
     "data": {
      "text/plain": [
       "['average_monthly_balance_prevQ',\n",
       " 'average_monthly_balance_prevQ2',\n",
       " 'branch_code',\n",
       " 'current_balance',\n",
       " 'current_month_balance',\n",
       " 'current_month_debit',\n",
       " 'days_since_last_transaction',\n",
       " 'previous_month_balance',\n",
       " 'previous_month_debit',\n",
       " 'previous_month_end_balance']"
      ]
     },
     "execution_count": 44,
     "metadata": {},
     "output_type": "execute_result"
    }
   ],
   "source": [
    "# Sample Input\n",
    "sample_input = {\n",
    "            'current_balance': 0.05,\n",
    "            'current_month_debit': 0.05,\n",
    "            'previous_month_debit': 0.05,\n",
    "            'current_month_balance': 0.05,\n",
    "            'average_monthly_balance_prevQ': 0.05,\n",
    "            'previous_month_balance': 0.05,\n",
    "            'previous_month_end_balance': 0.05,\n",
    "            'average_monthly_balance_prevQ2': 0.05,\n",
    "            'days_since_last_transaction': 0.05,\n",
    "            'branch_code':20\n",
    "}\n",
    "sorted(sample_input.keys())"
   ]
  },
  {
   "cell_type": "code",
   "execution_count": 45,
   "metadata": {
    "id": "jpG6bZIAzOec"
   },
   "outputs": [
    {
     "data": {
      "text/plain": [
       "False"
      ]
     },
     "execution_count": 45,
     "metadata": {},
     "output_type": "execute_result"
    }
   ],
   "source": [
    "predict_from_pkl(pkl_path/Path(\"xg_model.pkl\"),new_record=sample_input)"
   ]
  },
  {
   "cell_type": "markdown",
   "metadata": {},
   "source": [
    "## Web App Support "
   ]
  },
  {
   "cell_type": "markdown",
   "metadata": {},
   "source": [
    "### Exporting Summaries to Min Max Inputs from Web App"
   ]
  },
  {
   "cell_type": "code",
   "execution_count": 46,
   "metadata": {},
   "outputs": [
    {
     "data": {
      "text/html": [
       "<div>\n",
       "<style scoped>\n",
       "    .dataframe tbody tr th:only-of-type {\n",
       "        vertical-align: middle;\n",
       "    }\n",
       "\n",
       "    .dataframe tbody tr th {\n",
       "        vertical-align: top;\n",
       "    }\n",
       "\n",
       "    .dataframe thead th {\n",
       "        text-align: right;\n",
       "    }\n",
       "</style>\n",
       "<table border=\"1\" class=\"dataframe\">\n",
       "  <thead>\n",
       "    <tr style=\"text-align: right;\">\n",
       "      <th></th>\n",
       "      <th>average_monthly_balance_prevQ</th>\n",
       "      <th>average_monthly_balance_prevQ2</th>\n",
       "      <th>branch_code</th>\n",
       "      <th>current_balance</th>\n",
       "      <th>current_month_balance</th>\n",
       "      <th>current_month_debit</th>\n",
       "      <th>days_since_last_transaction</th>\n",
       "      <th>previous_month_balance</th>\n",
       "      <th>previous_month_debit</th>\n",
       "      <th>previous_month_end_balance</th>\n",
       "    </tr>\n",
       "  </thead>\n",
       "  <tbody>\n",
       "    <tr>\n",
       "      <th>count</th>\n",
       "      <td>2.440800e+04</td>\n",
       "      <td>2.440800e+04</td>\n",
       "      <td>24408.000000</td>\n",
       "      <td>2.440800e+04</td>\n",
       "      <td>2.440800e+04</td>\n",
       "      <td>2.440800e+04</td>\n",
       "      <td>24408.000000</td>\n",
       "      <td>2.440800e+04</td>\n",
       "      <td>2.440800e+04</td>\n",
       "      <td>2.440800e+04</td>\n",
       "    </tr>\n",
       "    <tr>\n",
       "      <th>mean</th>\n",
       "      <td>7.605444e+03</td>\n",
       "      <td>7.016962e+03</td>\n",
       "      <td>928.552688</td>\n",
       "      <td>7.512532e+03</td>\n",
       "      <td>7.583273e+03</td>\n",
       "      <td>4.099436e+03</td>\n",
       "      <td>166.999631</td>\n",
       "      <td>7.608911e+03</td>\n",
       "      <td>3.741680e+03</td>\n",
       "      <td>7.622790e+03</td>\n",
       "    </tr>\n",
       "    <tr>\n",
       "      <th>std</th>\n",
       "      <td>4.281387e+04</td>\n",
       "      <td>3.688151e+04</td>\n",
       "      <td>948.608465</td>\n",
       "      <td>4.382688e+04</td>\n",
       "      <td>4.319188e+04</td>\n",
       "      <td>5.596387e+04</td>\n",
       "      <td>88.349461</td>\n",
       "      <td>4.362391e+04</td>\n",
       "      <td>2.600183e+04</td>\n",
       "      <td>4.373454e+04</td>\n",
       "    </tr>\n",
       "    <tr>\n",
       "      <th>min</th>\n",
       "      <td>1.428690e+03</td>\n",
       "      <td>-1.650610e+04</td>\n",
       "      <td>1.000000</td>\n",
       "      <td>-5.503960e+03</td>\n",
       "      <td>-3.374180e+03</td>\n",
       "      <td>1.000000e-02</td>\n",
       "      <td>97.000000</td>\n",
       "      <td>-5.171920e+03</td>\n",
       "      <td>1.000000e-02</td>\n",
       "      <td>-3.149570e+03</td>\n",
       "    </tr>\n",
       "    <tr>\n",
       "      <th>25%</th>\n",
       "      <td>2.197390e+03</td>\n",
       "      <td>1.792720e+03</td>\n",
       "      <td>175.000000</td>\n",
       "      <td>1.764715e+03</td>\n",
       "      <td>2.009153e+03</td>\n",
       "      <td>4.600000e-01</td>\n",
       "      <td>108.000000</td>\n",
       "      <td>2.079275e+03</td>\n",
       "      <td>4.700000e-01</td>\n",
       "      <td>1.894793e+03</td>\n",
       "    </tr>\n",
       "    <tr>\n",
       "      <th>50%</th>\n",
       "      <td>3.591030e+03</td>\n",
       "      <td>3.359815e+03</td>\n",
       "      <td>566.000000</td>\n",
       "      <td>3.317940e+03</td>\n",
       "      <td>3.495945e+03</td>\n",
       "      <td>1.821450e+02</td>\n",
       "      <td>127.000000</td>\n",
       "      <td>3.506895e+03</td>\n",
       "      <td>1.964200e+02</td>\n",
       "      <td>3.411915e+03</td>\n",
       "    </tr>\n",
       "    <tr>\n",
       "      <th>75%</th>\n",
       "      <td>6.825153e+03</td>\n",
       "      <td>6.616315e+03</td>\n",
       "      <td>1438.250000</td>\n",
       "      <td>6.822055e+03</td>\n",
       "      <td>6.882685e+03</td>\n",
       "      <td>1.537790e+03</td>\n",
       "      <td>192.000000</td>\n",
       "      <td>6.791235e+03</td>\n",
       "      <td>1.561650e+03</td>\n",
       "      <td>6.847745e+03</td>\n",
       "    </tr>\n",
       "    <tr>\n",
       "      <th>max</th>\n",
       "      <td>5.700290e+06</td>\n",
       "      <td>5.010170e+06</td>\n",
       "      <td>4782.000000</td>\n",
       "      <td>5.905904e+06</td>\n",
       "      <td>5.778185e+06</td>\n",
       "      <td>7.637857e+06</td>\n",
       "      <td>1923.000000</td>\n",
       "      <td>5.720144e+06</td>\n",
       "      <td>1.414168e+06</td>\n",
       "      <td>5.740439e+06</td>\n",
       "    </tr>\n",
       "  </tbody>\n",
       "</table>\n",
       "</div>"
      ],
      "text/plain": [
       "       average_monthly_balance_prevQ  average_monthly_balance_prevQ2  \\\n",
       "count                   2.440800e+04                    2.440800e+04   \n",
       "mean                    7.605444e+03                    7.016962e+03   \n",
       "std                     4.281387e+04                    3.688151e+04   \n",
       "min                     1.428690e+03                   -1.650610e+04   \n",
       "25%                     2.197390e+03                    1.792720e+03   \n",
       "50%                     3.591030e+03                    3.359815e+03   \n",
       "75%                     6.825153e+03                    6.616315e+03   \n",
       "max                     5.700290e+06                    5.010170e+06   \n",
       "\n",
       "        branch_code  current_balance  current_month_balance  \\\n",
       "count  24408.000000     2.440800e+04           2.440800e+04   \n",
       "mean     928.552688     7.512532e+03           7.583273e+03   \n",
       "std      948.608465     4.382688e+04           4.319188e+04   \n",
       "min        1.000000    -5.503960e+03          -3.374180e+03   \n",
       "25%      175.000000     1.764715e+03           2.009153e+03   \n",
       "50%      566.000000     3.317940e+03           3.495945e+03   \n",
       "75%     1438.250000     6.822055e+03           6.882685e+03   \n",
       "max     4782.000000     5.905904e+06           5.778185e+06   \n",
       "\n",
       "       current_month_debit  days_since_last_transaction  \\\n",
       "count         2.440800e+04                 24408.000000   \n",
       "mean          4.099436e+03                   166.999631   \n",
       "std           5.596387e+04                    88.349461   \n",
       "min           1.000000e-02                    97.000000   \n",
       "25%           4.600000e-01                   108.000000   \n",
       "50%           1.821450e+02                   127.000000   \n",
       "75%           1.537790e+03                   192.000000   \n",
       "max           7.637857e+06                  1923.000000   \n",
       "\n",
       "       previous_month_balance  previous_month_debit  \\\n",
       "count            2.440800e+04          2.440800e+04   \n",
       "mean             7.608911e+03          3.741680e+03   \n",
       "std              4.362391e+04          2.600183e+04   \n",
       "min             -5.171920e+03          1.000000e-02   \n",
       "25%              2.079275e+03          4.700000e-01   \n",
       "50%              3.506895e+03          1.964200e+02   \n",
       "75%              6.791235e+03          1.561650e+03   \n",
       "max              5.720144e+06          1.414168e+06   \n",
       "\n",
       "       previous_month_end_balance  \n",
       "count                2.440800e+04  \n",
       "mean                 7.622790e+03  \n",
       "std                  4.373454e+04  \n",
       "min                 -3.149570e+03  \n",
       "25%                  1.894793e+03  \n",
       "50%                  3.411915e+03  \n",
       "75%                  6.847745e+03  \n",
       "max                  5.740439e+06  "
      ]
     },
     "execution_count": 46,
     "metadata": {},
     "output_type": "execute_result"
    }
   ],
   "source": [
    "# Need to find averages to help guide user for realistic values from dataset\n",
    "feature_summary = X[most_important_features].describe()\n",
    "feature_summary"
   ]
  },
  {
   "cell_type": "code",
   "execution_count": 47,
   "metadata": {},
   "outputs": [],
   "source": [
    "# Create results dataframe to find TP, TN, FN, and FP for test casing\n",
    "results = pd.DataFrame(y_test)\n",
    "results[\"ada\"], results['logit'], results['rf'], results['xg'] = [y_pred_ada, y_pred_logit, y_pred_rf, y_pred_XG]\n",
    "results\n",
    "\n",
    "# Find TP\n",
    "tp_only_df = results[results.sum(axis=1)==5]\n",
    "tp_index = tp_only_df.sample().index[0]\n",
    "\n",
    "\n",
    "# Find TN \n",
    "tn_only_df = results[results.sum(axis=1)==0]\n",
    "tn_index = tn_only_df.sample().index[0]\n",
    "\n",
    "\n",
    "# Find FP\n",
    "fp_only_df = results[(results[\"churn\"]==0) & (results.sum(axis=1)==4)]\n",
    "fp_index = fp_only_df.sample().index[0]\n",
    "\n",
    "# Find FN\n",
    "fn_only_df = results[(results[\"churn\"]==1) & (results.sum(axis=1)==1)]\n",
    "fn_index = fn_only_df.sample().index[0]"
   ]
  },
  {
   "cell_type": "code",
   "execution_count": 48,
   "metadata": {},
   "outputs": [
    {
     "data": {
      "text/html": [
       "<div>\n",
       "<style scoped>\n",
       "    .dataframe tbody tr th:only-of-type {\n",
       "        vertical-align: middle;\n",
       "    }\n",
       "\n",
       "    .dataframe tbody tr th {\n",
       "        vertical-align: top;\n",
       "    }\n",
       "\n",
       "    .dataframe thead th {\n",
       "        text-align: right;\n",
       "    }\n",
       "</style>\n",
       "<table border=\"1\" class=\"dataframe\">\n",
       "  <thead>\n",
       "    <tr style=\"text-align: right;\">\n",
       "      <th></th>\n",
       "      <th>average_monthly_balance_prevQ</th>\n",
       "      <th>average_monthly_balance_prevQ2</th>\n",
       "      <th>branch_code</th>\n",
       "      <th>current_balance</th>\n",
       "      <th>current_month_balance</th>\n",
       "      <th>current_month_debit</th>\n",
       "      <th>days_since_last_transaction</th>\n",
       "      <th>previous_month_balance</th>\n",
       "      <th>previous_month_debit</th>\n",
       "      <th>previous_month_end_balance</th>\n",
       "    </tr>\n",
       "  </thead>\n",
       "  <tbody>\n",
       "    <tr>\n",
       "      <th>count</th>\n",
       "      <td>2.440800e+04</td>\n",
       "      <td>2.440800e+04</td>\n",
       "      <td>24408.000000</td>\n",
       "      <td>2.440800e+04</td>\n",
       "      <td>2.440800e+04</td>\n",
       "      <td>2.440800e+04</td>\n",
       "      <td>24408.000000</td>\n",
       "      <td>2.440800e+04</td>\n",
       "      <td>2.440800e+04</td>\n",
       "      <td>2.440800e+04</td>\n",
       "    </tr>\n",
       "    <tr>\n",
       "      <th>mean</th>\n",
       "      <td>7.605444e+03</td>\n",
       "      <td>7.016962e+03</td>\n",
       "      <td>928.552688</td>\n",
       "      <td>7.512532e+03</td>\n",
       "      <td>7.583273e+03</td>\n",
       "      <td>4.099436e+03</td>\n",
       "      <td>166.999631</td>\n",
       "      <td>7.608911e+03</td>\n",
       "      <td>3.741680e+03</td>\n",
       "      <td>7.622790e+03</td>\n",
       "    </tr>\n",
       "    <tr>\n",
       "      <th>std</th>\n",
       "      <td>4.281387e+04</td>\n",
       "      <td>3.688151e+04</td>\n",
       "      <td>948.608465</td>\n",
       "      <td>4.382688e+04</td>\n",
       "      <td>4.319188e+04</td>\n",
       "      <td>5.596387e+04</td>\n",
       "      <td>88.349461</td>\n",
       "      <td>4.362391e+04</td>\n",
       "      <td>2.600183e+04</td>\n",
       "      <td>4.373454e+04</td>\n",
       "    </tr>\n",
       "    <tr>\n",
       "      <th>min</th>\n",
       "      <td>1.428690e+03</td>\n",
       "      <td>-1.650610e+04</td>\n",
       "      <td>1.000000</td>\n",
       "      <td>-5.503960e+03</td>\n",
       "      <td>-3.374180e+03</td>\n",
       "      <td>1.000000e-02</td>\n",
       "      <td>97.000000</td>\n",
       "      <td>-5.171920e+03</td>\n",
       "      <td>1.000000e-02</td>\n",
       "      <td>-3.149570e+03</td>\n",
       "    </tr>\n",
       "    <tr>\n",
       "      <th>25%</th>\n",
       "      <td>2.197390e+03</td>\n",
       "      <td>1.792720e+03</td>\n",
       "      <td>175.000000</td>\n",
       "      <td>1.764715e+03</td>\n",
       "      <td>2.009153e+03</td>\n",
       "      <td>4.600000e-01</td>\n",
       "      <td>108.000000</td>\n",
       "      <td>2.079275e+03</td>\n",
       "      <td>4.700000e-01</td>\n",
       "      <td>1.894793e+03</td>\n",
       "    </tr>\n",
       "    <tr>\n",
       "      <th>50%</th>\n",
       "      <td>3.591030e+03</td>\n",
       "      <td>3.359815e+03</td>\n",
       "      <td>566.000000</td>\n",
       "      <td>3.317940e+03</td>\n",
       "      <td>3.495945e+03</td>\n",
       "      <td>1.821450e+02</td>\n",
       "      <td>127.000000</td>\n",
       "      <td>3.506895e+03</td>\n",
       "      <td>1.964200e+02</td>\n",
       "      <td>3.411915e+03</td>\n",
       "    </tr>\n",
       "    <tr>\n",
       "      <th>75%</th>\n",
       "      <td>6.825153e+03</td>\n",
       "      <td>6.616315e+03</td>\n",
       "      <td>1438.250000</td>\n",
       "      <td>6.822055e+03</td>\n",
       "      <td>6.882685e+03</td>\n",
       "      <td>1.537790e+03</td>\n",
       "      <td>192.000000</td>\n",
       "      <td>6.791235e+03</td>\n",
       "      <td>1.561650e+03</td>\n",
       "      <td>6.847745e+03</td>\n",
       "    </tr>\n",
       "    <tr>\n",
       "      <th>max</th>\n",
       "      <td>5.700290e+06</td>\n",
       "      <td>5.010170e+06</td>\n",
       "      <td>4782.000000</td>\n",
       "      <td>5.905904e+06</td>\n",
       "      <td>5.778185e+06</td>\n",
       "      <td>7.637857e+06</td>\n",
       "      <td>1923.000000</td>\n",
       "      <td>5.720144e+06</td>\n",
       "      <td>1.414168e+06</td>\n",
       "      <td>5.740439e+06</td>\n",
       "    </tr>\n",
       "    <tr>\n",
       "      <th>TP</th>\n",
       "      <td>1.673880e+03</td>\n",
       "      <td>1.464370e+03</td>\n",
       "      <td>2804.000000</td>\n",
       "      <td>6.558900e+02</td>\n",
       "      <td>4.550950e+03</td>\n",
       "      <td>2.097159e+04</td>\n",
       "      <td>109.000000</td>\n",
       "      <td>1.647700e+02</td>\n",
       "      <td>5.167400e+02</td>\n",
       "      <td>1.275200e+02</td>\n",
       "    </tr>\n",
       "    <tr>\n",
       "      <th>TN</th>\n",
       "      <td>2.028650e+03</td>\n",
       "      <td>2.615180e+03</td>\n",
       "      <td>273.000000</td>\n",
       "      <td>1.672710e+03</td>\n",
       "      <td>1.790240e+03</td>\n",
       "      <td>2.000000e-01</td>\n",
       "      <td>196.000000</td>\n",
       "      <td>2.026120e+03</td>\n",
       "      <td>2.000000e-01</td>\n",
       "      <td>1.916170e+03</td>\n",
       "    </tr>\n",
       "    <tr>\n",
       "      <th>FP</th>\n",
       "      <td>2.560050e+03</td>\n",
       "      <td>7.051100e+02</td>\n",
       "      <td>190.000000</td>\n",
       "      <td>1.679530e+03</td>\n",
       "      <td>1.906190e+03</td>\n",
       "      <td>2.858100e+02</td>\n",
       "      <td>109.000000</td>\n",
       "      <td>4.315560e+03</td>\n",
       "      <td>4.285810e+03</td>\n",
       "      <td>1.965330e+03</td>\n",
       "    </tr>\n",
       "    <tr>\n",
       "      <th>FN</th>\n",
       "      <td>1.605400e+03</td>\n",
       "      <td>1.913980e+03</td>\n",
       "      <td>409.000000</td>\n",
       "      <td>1.076880e+03</td>\n",
       "      <td>1.195110e+03</td>\n",
       "      <td>2.144000e+02</td>\n",
       "      <td>197.000000</td>\n",
       "      <td>1.602780e+03</td>\n",
       "      <td>7.272600e+02</td>\n",
       "      <td>1.291160e+03</td>\n",
       "    </tr>\n",
       "  </tbody>\n",
       "</table>\n",
       "</div>"
      ],
      "text/plain": [
       "       average_monthly_balance_prevQ  average_monthly_balance_prevQ2  \\\n",
       "count                   2.440800e+04                    2.440800e+04   \n",
       "mean                    7.605444e+03                    7.016962e+03   \n",
       "std                     4.281387e+04                    3.688151e+04   \n",
       "min                     1.428690e+03                   -1.650610e+04   \n",
       "25%                     2.197390e+03                    1.792720e+03   \n",
       "50%                     3.591030e+03                    3.359815e+03   \n",
       "75%                     6.825153e+03                    6.616315e+03   \n",
       "max                     5.700290e+06                    5.010170e+06   \n",
       "TP                      1.673880e+03                    1.464370e+03   \n",
       "TN                      2.028650e+03                    2.615180e+03   \n",
       "FP                      2.560050e+03                    7.051100e+02   \n",
       "FN                      1.605400e+03                    1.913980e+03   \n",
       "\n",
       "        branch_code  current_balance  current_month_balance  \\\n",
       "count  24408.000000     2.440800e+04           2.440800e+04   \n",
       "mean     928.552688     7.512532e+03           7.583273e+03   \n",
       "std      948.608465     4.382688e+04           4.319188e+04   \n",
       "min        1.000000    -5.503960e+03          -3.374180e+03   \n",
       "25%      175.000000     1.764715e+03           2.009153e+03   \n",
       "50%      566.000000     3.317940e+03           3.495945e+03   \n",
       "75%     1438.250000     6.822055e+03           6.882685e+03   \n",
       "max     4782.000000     5.905904e+06           5.778185e+06   \n",
       "TP      2804.000000     6.558900e+02           4.550950e+03   \n",
       "TN       273.000000     1.672710e+03           1.790240e+03   \n",
       "FP       190.000000     1.679530e+03           1.906190e+03   \n",
       "FN       409.000000     1.076880e+03           1.195110e+03   \n",
       "\n",
       "       current_month_debit  days_since_last_transaction  \\\n",
       "count         2.440800e+04                 24408.000000   \n",
       "mean          4.099436e+03                   166.999631   \n",
       "std           5.596387e+04                    88.349461   \n",
       "min           1.000000e-02                    97.000000   \n",
       "25%           4.600000e-01                   108.000000   \n",
       "50%           1.821450e+02                   127.000000   \n",
       "75%           1.537790e+03                   192.000000   \n",
       "max           7.637857e+06                  1923.000000   \n",
       "TP            2.097159e+04                   109.000000   \n",
       "TN            2.000000e-01                   196.000000   \n",
       "FP            2.858100e+02                   109.000000   \n",
       "FN            2.144000e+02                   197.000000   \n",
       "\n",
       "       previous_month_balance  previous_month_debit  \\\n",
       "count            2.440800e+04          2.440800e+04   \n",
       "mean             7.608911e+03          3.741680e+03   \n",
       "std              4.362391e+04          2.600183e+04   \n",
       "min             -5.171920e+03          1.000000e-02   \n",
       "25%              2.079275e+03          4.700000e-01   \n",
       "50%              3.506895e+03          1.964200e+02   \n",
       "75%              6.791235e+03          1.561650e+03   \n",
       "max              5.720144e+06          1.414168e+06   \n",
       "TP               1.647700e+02          5.167400e+02   \n",
       "TN               2.026120e+03          2.000000e-01   \n",
       "FP               4.315560e+03          4.285810e+03   \n",
       "FN               1.602780e+03          7.272600e+02   \n",
       "\n",
       "       previous_month_end_balance  \n",
       "count                2.440800e+04  \n",
       "mean                 7.622790e+03  \n",
       "std                  4.373454e+04  \n",
       "min                 -3.149570e+03  \n",
       "25%                  1.894793e+03  \n",
       "50%                  3.411915e+03  \n",
       "75%                  6.847745e+03  \n",
       "max                  5.740439e+06  \n",
       "TP                   1.275200e+02  \n",
       "TN                   1.916170e+03  \n",
       "FP                   1.965330e+03  \n",
       "FN                   1.291160e+03  "
      ]
     },
     "execution_count": 48,
     "metadata": {},
     "output_type": "execute_result"
    }
   ],
   "source": [
    "# Adding features for default test sets in \n",
    "feature_summary = pd.concat([feature_summary,X_test_unscaled[most_important_features].\\\n",
    "                             loc[[tp_index,tn_index,fp_index,fn_index]]])\n",
    "feature_summary.index = list(feature_summary.index[:8]) + ['TP','TN','FP','FN']\n",
    "feature_summary"
   ]
  },
  {
   "cell_type": "code",
   "execution_count": 49,
   "metadata": {},
   "outputs": [],
   "source": [
    "# export feature_summary file to excel\n",
    "feature_summary.to_excel(model_results_path/Path(\"feature_summary.xlsx\"))"
   ]
  },
  {
   "cell_type": "code",
   "execution_count": 61,
   "metadata": {},
   "outputs": [
    {
     "data": {
      "text/plain": [
       "{'average_monthly_balance_prevQ': 1673.88,\n",
       " 'average_monthly_balance_prevQ2': 1464.37,\n",
       " 'branch_code': 2804.0,\n",
       " 'current_balance': 655.89,\n",
       " 'current_month_balance': 4550.95,\n",
       " 'current_month_debit': 20971.59,\n",
       " 'days_since_last_transaction': 109.0,\n",
       " 'previous_month_balance': 164.77,\n",
       " 'previous_month_debit': 516.74,\n",
       " 'previous_month_end_balance': 127.52}"
      ]
     },
     "execution_count": 61,
     "metadata": {},
     "output_type": "execute_result"
    }
   ],
   "source": [
    "feature_summary.transpose().to_dict()['TP']"
   ]
  },
  {
   "cell_type": "markdown",
   "metadata": {},
   "source": [
    "### Creating a identical scaler (for relevant features) for Web App"
   ]
  },
  {
   "cell_type": "code",
   "execution_count": 54,
   "metadata": {},
   "outputs": [
    {
     "data": {
      "text/plain": [
       "['model_results/MinMaxScaler.save']"
      ]
     },
     "execution_count": 54,
     "metadata": {},
     "output_type": "execute_result"
    }
   ],
   "source": [
    "# Using a MinMax Scaler for the Data\n",
    "scaler_slice = MinMaxScaler()\n",
    "scaler_slice.fit(X_train_os[most_important_features])\n",
    "# Save for Use in WebApp\n",
    "scaler_filename = \"MinMaxScaler.save\"\n",
    "joblib.dump(scaler_slice, model_results_path/scaler_filename) "
   ]
  }
 ],
 "metadata": {
  "colab": {
   "provenance": []
  },
  "kernelspec": {
   "display_name": "churnGuard",
   "language": "python",
   "name": "churnguard"
  },
  "language_info": {
   "codemirror_mode": {
    "name": "ipython",
    "version": 3
   },
   "file_extension": ".py",
   "mimetype": "text/x-python",
   "name": "python",
   "nbconvert_exporter": "python",
   "pygments_lexer": "ipython3",
   "version": "3.11.5"
  }
 },
 "nbformat": 4,
 "nbformat_minor": 4
}
